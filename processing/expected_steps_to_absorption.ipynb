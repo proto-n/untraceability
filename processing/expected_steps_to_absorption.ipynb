{
 "cells": [
  {
   "cell_type": "code",
   "execution_count": null,
   "metadata": {},
   "outputs": [],
   "source": [
    "import os\n",
    "os.environ[\"OMP_NUM_THREADS\"] = \"1\" # export OMP_NUM_THREADS=4\n",
    "os.environ[\"OPENBLAS_NUM_THREADS\"] = \"1\" # export OPENBLAS_NUM_THREADS=4 \n",
    "os.environ[\"MKL_NUM_THREADS\"] = \"1\" # export MKL_NUM_THREADS=6\n",
    "os.environ[\"VECLIB_MAXIMUM_THREADS\"] = \"1\" # export VECLIB_MAXIMUM_THREADS=4\n",
    "os.environ[\"NUMEXPR_NUM_THREADS\"] = \"1\" # export NUMEXPR_NUM_THREADS=6\n",
    "\n",
    "import struct\n",
    "import numpy as np\n",
    "import pandas as pd\n",
    "import networkx as nx\n",
    "import scipy\n",
    "from scipy.stats import entropy\n",
    "from scipy.sparse import csr_matrix \n",
    "from tqdm import tqdm\n",
    "from matplotlib import pyplot as plt\n",
    "from collections import defaultdict\n",
    "import pickle\n",
    "import argparse\n",
    "import sys\n",
    "\n",
    "sys.path.insert(1, os.path.join(sys.path[0], '..'))\n",
    "\n",
    "from functions import absorbing_markov, reduce_Q\n",
    "\n",
    "parser = argparse.ArgumentParser(description='Run demo')\n",
    "parser.add_argument('--nx_gpickle_file', type=str, default=\"\", help='networkx pickle file to process')"
   ]
  },
  {
   "cell_type": "code",
   "execution_count": null,
   "metadata": {},
   "outputs": [],
   "source": [
    "from IPython.core.display import display, HTML"
   ]
  },
  {
   "cell_type": "code",
   "execution_count": null,
   "metadata": {},
   "outputs": [],
   "source": [
    "import datashader"
   ]
  },
  {
   "cell_type": "code",
   "execution_count": null,
   "metadata": {},
   "outputs": [],
   "source": [
    "import datashader as ds, pandas as pd, colorcet"
   ]
  },
  {
   "cell_type": "code",
   "execution_count": null,
   "metadata": {},
   "outputs": [],
   "source": [
    "to_display = [\n",
    "    ['graph_pk_usdc.gpickle', 'usdc_pk'],\n",
    "    ['graph_pk_dai.gpickle', 'dai_pk'],\n",
    "    ['graph_pk_bitcoin.gpickle', 'bitcoin_pk'],\n",
    "    ['graph_pk_ethereum.gpickle', 'ethereum_pk'],\n",
    "    ['graph_pk_zcash_spb.gpickle', 'zcash_pk'],\n",
    "]"
   ]
  },
  {
   "cell_type": "code",
   "execution_count": null,
   "metadata": {},
   "outputs": [],
   "source": [
    "points_coll = {}"
   ]
  },
  {
   "cell_type": "code",
   "execution_count": null,
   "metadata": {},
   "outputs": [],
   "source": [
    "import math"
   ]
  },
  {
   "cell_type": "code",
   "execution_count": null,
   "metadata": {
    "scrolled": false
   },
   "outputs": [],
   "source": [
    "for gp, fold in to_display:\n",
    "    args = parser.parse_args(('--nx_gpickle_file graph/'+gp).split(' '))\n",
    "\n",
    "    np.random.seed(123)\n",
    "\n",
    "    G = nx.read_gpickle(args.nx_gpickle_file)\n",
    "    zeroSats=0\n",
    "    toBeDeletedEdges = []\n",
    "    for e in tqdm(G.edges.data(\"weight\")):\n",
    "        if e[2]==0:\n",
    "            zeroSats+=1\n",
    "            toBeDeletedEdges.append(e)\n",
    "    G.remove_edges_from(toBeDeletedEdges)\n",
    "    from scipy.sparse import identity\n",
    "    from scipy.sparse.linalg import inv\n",
    "\n",
    "    I, Q, R, node_recode, absorber_recode = absorbing_markov(G)\n",
    "    i=1\n",
    "    Q_slice, R_slice, slice_size, conv_lim, verbose = Q, np.ones_like(R[:, i:i+1].todense()), 1, 1e-6, True\n",
    "    qkr = R_slice\n",
    "    coll = qkr.copy()\n",
    "    for i in tqdm(range(10000)):\n",
    "        qkr = Q_slice*qkr\n",
    "        coll += qkr\n",
    "    import pickle\n",
    "    with open(fold+'/recode', 'rb') as handle:\n",
    "        recode = pickle.load(handle)\n",
    "    if fold == \"zcash_pk_comparison\":\n",
    "        entropies = np.load(fold+'/entropies_modified.npy')\n",
    "    else:\n",
    "        entropies = np.load(fold+'/entropies.npy')\n",
    "    unspent = np.load(fold+'/unspent.npy')\n",
    "    step_ixs = [node_recode[n] for n in recode.keys()]\n",
    "    entropy_ixy = [recode[n] for n in recode.keys()]\n",
    "    points = pd.DataFrame({'steps': np.array(coll).squeeze()[np.array(step_ixs)], 'entropies': entropies[np.array(entropy_ixy)]})\n",
    "    points_coll[fold] = points\n",
    "    cvs = ds.Canvas(plot_width=500, plot_height=500)\n",
    "    agg = cvs.points(points, 'steps', 'entropies')\n",
    "    img = ds.tf.shade(agg, cmap=colorcet.fire)\n",
    "    display(HTML(\"<h3>\"+fold+\"</h3>\"+img._repr_html_()))"
   ]
  },
  {
   "cell_type": "code",
   "execution_count": null,
   "metadata": {},
   "outputs": [],
   "source": [
    "for k, p in points_coll.items():\n",
    "    p.to_csv('expected_steps/'+k+'.csv.gz')"
   ]
  },
  {
   "cell_type": "code",
   "execution_count": null,
   "metadata": {},
   "outputs": [],
   "source": [
    "points_coll2 = points_coll"
   ]
  },
  {
   "cell_type": "code",
   "execution_count": null,
   "metadata": {},
   "outputs": [],
   "source": [
    "from matplotlib import pyplot as plt\n",
    "import pandas as pd\n",
    "import math\n",
    "import colorcet\n",
    "import numpy as np"
   ]
  },
  {
   "cell_type": "code",
   "execution_count": null,
   "metadata": {},
   "outputs": [],
   "source": [
    "to_display = [\n",
    "    ['graph_pk_usdc.gpickle', 'usdc_pk'],\n",
    "    ['graph_pk_dai.gpickle', 'dai_pk'],\n",
    "    ['graph_pk_bitcoin.gpickle', 'bitcoin_pk_comparison_a100'],\n",
    "    ['graph_pk_ethereum.gpickle', 'ethereum_pk_comparison'],\n",
    "    ['graph_pk_zcash_spb.gpickle', 'zcash_pk_comparison'],\n",
    "]\n",
    "points_coll={}"
   ]
  },
  {
   "cell_type": "code",
   "execution_count": null,
   "metadata": {},
   "outputs": [],
   "source": [
    "for k,v in to_display:\n",
    "    points_coll[v] = pd.read_csv('expected_steps/'+v+'.csv.gz')\n",
    "    points_coll[v]['entropies'] *= 1/math.log(2)"
   ]
  },
  {
   "cell_type": "code",
   "execution_count": null,
   "metadata": {},
   "outputs": [],
   "source": [
    "from datashader import transfer_functions as tf\n",
    "from datashader.colors import inferno, viridis\n",
    "from matplotlib.colors import LinearSegmentedColormap\n",
    "cm = LinearSegmentedColormap.from_list(colors=colorcet.fire, name=\"asd\")\n",
    "def plot_points(points, name, max_x=1000, max_y=None, x_step=200, bins=300, figsize=(5,5)):\n",
    "    plt.figure(figsize=figsize)\n",
    "    plt.title(name)\n",
    "    plt.xlabel('Steps')\n",
    "    plt.ylabel('Untracability')\n",
    "    points_ = points[points['steps']<max_x]\n",
    "    if max_y:\n",
    "        points_ = points_[points_['entropies']<max_y]\n",
    "    hist = np.histogram2d(*points_.values.T, bins=bins)\n",
    "    data = tf.eq_hist(hist[0].T)[0]\n",
    "    yticks = np.arange(0, hist[2].max()+1)\n",
    "    yticks_loc = yticks/hist[2].max()*bins\n",
    "    xticks = np.arange(0,max_x+1, x_step)\n",
    "    xticks_loc = xticks/hist[1].max()*bins\n",
    "    plt.xticks(xticks_loc, xticks)\n",
    "    plt.yticks(yticks_loc, yticks)\n",
    "    plt.imshow(\n",
    "        data,\n",
    "        cmap=cm,\n",
    "        origin=\"lower\",\n",
    "        #alpha=data==0\n",
    "    )"
   ]
  },
  {
   "cell_type": "code",
   "execution_count": null,
   "metadata": {},
   "outputs": [],
   "source": [
    "cm = LinearSegmentedColormap.from_list(colors=colorcet.fire[::-1], name=\"asd\")"
   ]
  },
  {
   "cell_type": "code",
   "execution_count": null,
   "metadata": {},
   "outputs": [],
   "source": [
    "plot_points(points_coll['usdc_pk'][['steps','entropies']], 'USD Coin', max_x=25, max_y=4.5*(1/math.log(2)), x_step=5)\n",
    "plt.savefig(\"expected_steps/usdc.pdf\")"
   ]
  },
  {
   "cell_type": "code",
   "execution_count": null,
   "metadata": {},
   "outputs": [],
   "source": [
    "plot_points(points_coll['dai_pk'][['steps','entropies']], 'DAI', max_x=100, max_y=4.5*(1/math.log(2)), x_step=20)\n",
    "plt.savefig(\"expected_steps/dai.pdf\")"
   ]
  },
  {
   "cell_type": "code",
   "execution_count": null,
   "metadata": {},
   "outputs": [],
   "source": [
    "plot_points(points_coll['bitcoin_pk_comparison_a100'][['steps','entropies']], 'Bitcoin', max_x=200, max_y=11*(1/math.log(2)), x_step=50)\n",
    "plt.savefig(\"expected_steps/bitcoin.pdf\")"
   ]
  },
  {
   "cell_type": "code",
   "execution_count": null,
   "metadata": {},
   "outputs": [],
   "source": [
    "plot_points(points_coll['ethereum_pk_comparison'][['steps','entropies']], 'Ethereum', max_x=15, max_y=7*(1/math.log(2)), x_step=3)\n",
    "plt.savefig(\"expected_steps/ethereum.pdf\")"
   ]
  },
  {
   "cell_type": "code",
   "execution_count": null,
   "metadata": {},
   "outputs": [],
   "source": [
    "plot_points(points_coll['zcash_pk_comparison'][['steps','entropies']], 'Zcash', max_x=1000, max_y=11*(1/math.log(2)), x_step=200)\n",
    "plt.savefig(\"expected_steps/zcash.pdf\")"
   ]
  }
 ],
 "metadata": {
  "kernelspec": {
   "display_name": "Python 3 (ipykernel)",
   "language": "python",
   "name": "python3"
  },
  "language_info": {
   "codemirror_mode": {
    "name": "ipython",
    "version": 3
   },
   "file_extension": ".py",
   "mimetype": "text/x-python",
   "name": "python",
   "nbconvert_exporter": "python",
   "pygments_lexer": "ipython3",
   "version": "3.9.19"
  }
 },
 "nbformat": 4,
 "nbformat_minor": 2
}
